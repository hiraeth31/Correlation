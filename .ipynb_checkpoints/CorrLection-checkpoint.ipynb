{
 "cells": [
  {
   "cell_type": "markdown",
   "id": "506e71ae",
   "metadata": {},
   "source": [
    "Данные взяты с сайта https://ourworldindata.org/obesity\n",
    "\n",
    "Гипотеза \"Если в России, людей страдающих ожирением, сновится больше, то в США этот показатель тоже растет\"\n",
    "\n",
    "Данные на сайте предоставляются по множеству стран в формате .csv с 1975 года по 2016 год."
   ]
  },
  {
   "cell_type": "markdown",
   "id": "43a200fb",
   "metadata": {},
   "source": [
    "Первым делом импортируются библиотеки:"
   ]
  },
  {
   "cell_type": "code",
   "execution_count": 205,
   "id": "fbe37071",
   "metadata": {},
   "outputs": [],
   "source": [
    "import pandas as pd\n",
    "import numpy as np\n",
    "import seaborn as sns\n",
    "import matplotlib.pyplot as plt\n",
    "%matplotlib inline"
   ]
  },
  {
   "cell_type": "markdown",
   "id": "eccbf1ab",
   "metadata": {},
   "source": [
    "Смотрим информацию по колонкам:"
   ]
  },
  {
   "cell_type": "code",
   "execution_count": 206,
   "id": "4f8045f2",
   "metadata": {},
   "outputs": [
    {
     "name": "stdout",
     "output_type": "stream",
     "text": [
      "<class 'pandas.core.frame.DataFrame'>\n",
      "RangeIndex: 8484 entries, 0 to 8483\n",
      "Data columns (total 4 columns):\n",
      " #   Column                                                                                                     Non-Null Count  Dtype  \n",
      "---  ------                                                                                                     --------------  -----  \n",
      " 0   Entity                                                                                                     8484 non-null   object \n",
      " 1   Code                                                                                                       8064 non-null   object \n",
      " 2   Year                                                                                                       8484 non-null   int64  \n",
      " 3   Indicator:Prevalence of obesity among adults, BMI &GreaterEqual; 30 (crude estimate) (%) - Sex:Both sexes  8484 non-null   float64\n",
      "dtypes: float64(1), int64(1), object(2)\n",
      "memory usage: 265.3+ KB\n",
      "None\n"
     ]
    }
   ],
   "source": [
    "df = pd.read_csv('obesity.csv')\n",
    "print(df.info())"
   ]
  },
  {
   "cell_type": "markdown",
   "id": "386df07e",
   "metadata": {},
   "source": [
    "Так как нам нужны только две страны, то следует их отделить"
   ]
  },
  {
   "cell_type": "code",
   "execution_count": 207,
   "id": "0a6f20e4",
   "metadata": {},
   "outputs": [],
   "source": [
    "usaData = df[df['Entity'] == 'United States']\n",
    "russiaData = df[df['Entity'] == 'Russia']"
   ]
  },
  {
   "cell_type": "markdown",
   "id": "3e7a31a3",
   "metadata": {},
   "source": [
    "Далее нужно создать фигуры, где будут располагаться графики."
   ]
  },
  {
   "cell_type": "code",
   "execution_count": 208,
   "id": "772ad5c6",
   "metadata": {},
   "outputs": [
    {
     "data": {
      "text/plain": [
       "<Figure size 1000x1000 with 0 Axes>"
      ]
     },
     "metadata": {},
     "output_type": "display_data"
    },
    {
     "data": {
      "text/plain": [
       "<Figure size 1000x1000 with 0 Axes>"
      ]
     },
     "metadata": {},
     "output_type": "display_data"
    },
    {
     "data": {
      "text/plain": [
       "<Figure size 1000x1000 with 0 Axes>"
      ]
     },
     "metadata": {},
     "output_type": "display_data"
    }
   ],
   "source": [
    "figure = plt.figure(figsize=(10, 10))\n",
    "figure2 = plt.figure(figsize=(10, 10))\n",
    "figure3 = plt.figure(figsize=(10, 10))"
   ]
  },
  {
   "cell_type": "markdown",
   "id": "fbbde4cf",
   "metadata": {},
   "source": [
    "Далее распределим будущие графики по фигурам:"
   ]
  },
  {
   "cell_type": "code",
   "execution_count": 209,
   "id": "c5384e98",
   "metadata": {},
   "outputs": [],
   "source": [
    "axes1 = figure.add_subplot(2, 2, 1)\n",
    "axes2 = figure.add_subplot(2, 2, 2)\n",
    "axes3 = figure2.add_subplot()\n",
    "axes4 = figure3.add_subplot()"
   ]
  },
  {
   "cell_type": "markdown",
   "id": "0de599bc",
   "metadata": {},
   "source": [
    "Построение графика для США"
   ]
  },
  {
   "cell_type": "code",
   "execution_count": 210,
   "id": "bc57bac3",
   "metadata": {},
   "outputs": [
    {
     "data": {
      "text/plain": [
       "<matplotlib.legend.Legend at 0x1d8f263c250>"
      ]
     },
     "execution_count": 210,
     "metadata": {},
     "output_type": "execute_result"
    }
   ],
   "source": [
    "axes1.plot(usaData['Year'], usaData['Indicator:Prevalence of obesity among adults, BMI &GreaterEqual; 30 (crude estimate) (%) - Sex:Both sexes'],\n",
    "           color='red',\n",
    "           linewidth=2,\n",
    "           label='США')\n",
    "axes1.set_title('США')\n",
    "axes1.set_xlabel('Год')\n",
    "axes1.set_ylabel('Ожирение (%)')\n",
    "axes1.grid()\n",
    "axes1.legend()"
   ]
  },
  {
   "cell_type": "markdown",
   "id": "14c41ed8",
   "metadata": {},
   "source": [
    "Здесь в качестве оси OX идут года, а индекс массы тела в качестве оси OY. \n",
    "И еще график настроен немного косметически: выбран красный цвет, толщина линии поставлена в значение 2 и дан лейбл, который потом будет отображаться в легенде.\n",
    "Графику дано название, подписаны оси и выставлена сетка. Также включено отображение легенды.\n"
   ]
  },
  {
   "cell_type": "markdown",
   "id": "58cfdfb7",
   "metadata": {},
   "source": [
    "График для России делается аналогичным образом:"
   ]
  },
  {
   "cell_type": "code",
   "execution_count": 211,
   "id": "95f3addf",
   "metadata": {},
   "outputs": [
    {
     "data": {
      "text/plain": [
       "<matplotlib.legend.Legend at 0x1d8f3f3a010>"
      ]
     },
     "execution_count": 211,
     "metadata": {},
     "output_type": "execute_result"
    }
   ],
   "source": [
    "axes2.plot(russiaData['Year'], russiaData['Indicator:Prevalence of obesity among adults, BMI &GreaterEqual; 30 (crude estimate) (%) - Sex:Both sexes'],\n",
    "           linewidth=2,\n",
    "           label='Россия',\n",
    "           color='blue')\n",
    "axes2.set_title('Россия')\n",
    "axes2.set_xlabel('Год')\n",
    "axes2.set_ylabel('Ожирение (%)')\n",
    "axes2.grid()\n",
    "axes2.legend()"
   ]
  },
  {
   "cell_type": "markdown",
   "id": "1ce7ec30",
   "metadata": {},
   "source": [
    "Во второй фигуре следует отобразить сравнение первого и второго графиков. "
   ]
  },
  {
   "cell_type": "code",
   "execution_count": 212,
   "id": "9577b211",
   "metadata": {},
   "outputs": [
    {
     "data": {
      "text/plain": [
       "<matplotlib.legend.Legend at 0x1d8f30a8c10>"
      ]
     },
     "execution_count": 212,
     "metadata": {},
     "output_type": "execute_result"
    }
   ],
   "source": [
    "axes3.plot(usaData['Year'], usaData['Indicator:Prevalence of obesity among adults, BMI &GreaterEqual; 30 (crude estimate) (%) - Sex:Both sexes'],\n",
    "           label='США',\n",
    "           color='red',\n",
    "           linewidth=2)\n",
    "axes3.plot(russiaData['Year'], russiaData['Indicator:Prevalence of obesity among adults, BMI &GreaterEqual; 30 (crude estimate) (%) - Sex:Both sexes'],\n",
    "           label='Россия',\n",
    "           color='blue',\n",
    "           linewidth=2)\n",
    "axes3.set_title('Сравнение ожирения в США и России')\n",
    "axes3.set_xlabel('Год')\n",
    "axes3.set_ylabel('Ожирение (%)')\n",
    "axes3.grid()\n",
    "axes3.legend()"
   ]
  },
  {
   "cell_type": "markdown",
   "id": "cdedf169",
   "metadata": {},
   "source": [
    "Далее делаем MultiIndex"
   ]
  },
  {
   "cell_type": "markdown",
   "id": "b230ce68",
   "metadata": {},
   "source": [
    "Чтобы сделать MultiIndex я взял статистику по норвежским кронам"
   ]
  },
  {
   "cell_type": "code",
   "execution_count": 213,
   "id": "4cf77138",
   "metadata": {},
   "outputs": [
    {
     "name": "stderr",
     "output_type": "stream",
     "text": [
      "N:\\Programs\\Optional\\anaconda\\Lib\\site-packages\\openpyxl\\styles\\stylesheet.py:226: UserWarning: Workbook contains no default style, apply openpyxl's default\n",
      "  warn(\"Workbook contains no default style, apply openpyxl's default\")\n"
     ]
    },
    {
     "name": "stdout",
     "output_type": "stream",
     "text": [
      "                     data     curs  Year  Month  Day\n",
      "Year Month Day                                      \n",
      "2024 2     29  2024-02-29  87.2477  2024      2   29\n",
      "           28  2024-02-28  87.3998  2024      2   28\n",
      "           27  2024-02-27  88.1178  2024      2   27\n",
      "           23  2024-02-23  88.4514  2024      2   23\n",
      "           22  2024-02-22  88.1502  2024      2   22\n",
      "           21  2024-02-21  88.0319  2024      2   21\n",
      "           20  2024-02-20  87.6292  2024      2   20\n",
      "           17  2024-02-17  87.5145  2024      2   17\n",
      "           16  2024-02-16  86.7661  2024      2   16\n",
      "           15  2024-02-15  87.3139  2024      2   15\n"
     ]
    }
   ],
   "source": [
    "dF = pd.read_excel('norwKr.xlsx')\n",
    "\n",
    "dF.drop(['nominal', 'cdx'], inplace=True, axis=1)\n",
    "dF['data'] = pd.to_datetime(dF['data'])\n",
    "dF.index = dF['data']\n",
    "\n",
    "dF['Year'] = dF.index.year\n",
    "dF['Month'] = dF.index.month\n",
    "dF['Day'] = dF.index.day\n",
    "dates = dF[['Year', 'Month', 'Day']]\n",
    "\n",
    "dF.index = pd.MultiIndex.from_tuples(dates.values.tolist(), names=dates.columns)\n",
    "\n",
    "print(dF.head(10))"
   ]
  },
  {
   "cell_type": "markdown",
   "id": "1bb3741e",
   "metadata": {},
   "source": [
    "Для вывода тепловой карты нужно немного подредактировать данные"
   ]
  },
  {
   "cell_type": "code",
   "execution_count": 214,
   "id": "a10c4769",
   "metadata": {},
   "outputs": [],
   "source": [
    "russiaData = df[df['Entity'] == 'United States']\n",
    "russiaData = russiaData.drop(columns=['Code', 'Entity'])\n",
    "russiaData = russiaData.rename(columns={\"Indicator:Prevalence of obesity among adults, BMI &GreaterEqual; 30 (crude estimate) (%) - Sex:Both sexes\": \"BMI RUS\"})\n",
    "russiaData = russiaData.reset_index(drop=True)\n",
    "\n",
    "usaData = df[df['Entity'] == 'United States']\n",
    "usaData = usaData.drop(columns=['Entity', 'Code', 'Year'])\n",
    "usaData = usaData.rename(columns={\"Indicator:Prevalence of obesity among adults, BMI &GreaterEqual; 30 (crude estimate) (%) - Sex:Both sexes\": \"BMI USA\"})\n",
    "usaData = usaData.reset_index(drop=True)"
   ]
  },
  {
   "cell_type": "markdown",
   "id": "718fe8be",
   "metadata": {},
   "source": [
    "Далее объединим таблицы"
   ]
  },
  {
   "cell_type": "code",
   "execution_count": 215,
   "id": "e995b19d",
   "metadata": {},
   "outputs": [
    {
     "data": {
      "text/html": [
       "<div>\n",
       "<style scoped>\n",
       "    .dataframe tbody tr th:only-of-type {\n",
       "        vertical-align: middle;\n",
       "    }\n",
       "\n",
       "    .dataframe tbody tr th {\n",
       "        vertical-align: top;\n",
       "    }\n",
       "\n",
       "    .dataframe thead th {\n",
       "        text-align: right;\n",
       "    }\n",
       "</style>\n",
       "<table border=\"1\" class=\"dataframe\">\n",
       "  <thead>\n",
       "    <tr style=\"text-align: right;\">\n",
       "      <th></th>\n",
       "      <th>Year</th>\n",
       "      <th>BMI RUS</th>\n",
       "      <th>BMI USA</th>\n",
       "    </tr>\n",
       "  </thead>\n",
       "  <tbody>\n",
       "    <tr>\n",
       "      <th>0</th>\n",
       "      <td>1975</td>\n",
       "      <td>11.7</td>\n",
       "      <td>11.7</td>\n",
       "    </tr>\n",
       "    <tr>\n",
       "      <th>1</th>\n",
       "      <td>1976</td>\n",
       "      <td>12.1</td>\n",
       "      <td>12.1</td>\n",
       "    </tr>\n",
       "    <tr>\n",
       "      <th>2</th>\n",
       "      <td>1977</td>\n",
       "      <td>12.4</td>\n",
       "      <td>12.4</td>\n",
       "    </tr>\n",
       "    <tr>\n",
       "      <th>3</th>\n",
       "      <td>1978</td>\n",
       "      <td>12.7</td>\n",
       "      <td>12.7</td>\n",
       "    </tr>\n",
       "    <tr>\n",
       "      <th>4</th>\n",
       "      <td>1979</td>\n",
       "      <td>13.1</td>\n",
       "      <td>13.1</td>\n",
       "    </tr>\n",
       "    <tr>\n",
       "      <th>5</th>\n",
       "      <td>1980</td>\n",
       "      <td>13.5</td>\n",
       "      <td>13.5</td>\n",
       "    </tr>\n",
       "    <tr>\n",
       "      <th>6</th>\n",
       "      <td>1981</td>\n",
       "      <td>13.9</td>\n",
       "      <td>13.9</td>\n",
       "    </tr>\n",
       "    <tr>\n",
       "      <th>7</th>\n",
       "      <td>1982</td>\n",
       "      <td>14.3</td>\n",
       "      <td>14.3</td>\n",
       "    </tr>\n",
       "    <tr>\n",
       "      <th>8</th>\n",
       "      <td>1983</td>\n",
       "      <td>14.8</td>\n",
       "      <td>14.8</td>\n",
       "    </tr>\n",
       "    <tr>\n",
       "      <th>9</th>\n",
       "      <td>1984</td>\n",
       "      <td>15.2</td>\n",
       "      <td>15.2</td>\n",
       "    </tr>\n",
       "  </tbody>\n",
       "</table>\n",
       "</div>"
      ],
      "text/plain": [
       "   Year  BMI RUS  BMI USA\n",
       "0  1975     11.7     11.7\n",
       "1  1976     12.1     12.1\n",
       "2  1977     12.4     12.4\n",
       "3  1978     12.7     12.7\n",
       "4  1979     13.1     13.1\n",
       "5  1980     13.5     13.5\n",
       "6  1981     13.9     13.9\n",
       "7  1982     14.3     14.3\n",
       "8  1983     14.8     14.8\n",
       "9  1984     15.2     15.2"
      ]
     },
     "execution_count": 215,
     "metadata": {},
     "output_type": "execute_result"
    }
   ],
   "source": [
    "hopelessData = pd.concat([russiaData, usaData], axis=1)\n",
    "hopelessData.head(10)"
   ]
  },
  {
   "cell_type": "code",
   "execution_count": 216,
   "id": "e38f13f0",
   "metadata": {},
   "outputs": [
    {
     "data": {
      "text/html": [
       "<div>\n",
       "<style scoped>\n",
       "    .dataframe tbody tr th:only-of-type {\n",
       "        vertical-align: middle;\n",
       "    }\n",
       "\n",
       "    .dataframe tbody tr th {\n",
       "        vertical-align: top;\n",
       "    }\n",
       "\n",
       "    .dataframe thead th {\n",
       "        text-align: right;\n",
       "    }\n",
       "</style>\n",
       "<table border=\"1\" class=\"dataframe\">\n",
       "  <thead>\n",
       "    <tr style=\"text-align: right;\">\n",
       "      <th></th>\n",
       "      <th>Year</th>\n",
       "      <th>BMI RUS</th>\n",
       "      <th>BMI USA</th>\n",
       "    </tr>\n",
       "  </thead>\n",
       "  <tbody>\n",
       "    <tr>\n",
       "      <th>Year</th>\n",
       "      <td>1.000000</td>\n",
       "      <td>0.996112</td>\n",
       "      <td>0.996112</td>\n",
       "    </tr>\n",
       "    <tr>\n",
       "      <th>BMI RUS</th>\n",
       "      <td>0.996112</td>\n",
       "      <td>1.000000</td>\n",
       "      <td>1.000000</td>\n",
       "    </tr>\n",
       "    <tr>\n",
       "      <th>BMI USA</th>\n",
       "      <td>0.996112</td>\n",
       "      <td>1.000000</td>\n",
       "      <td>1.000000</td>\n",
       "    </tr>\n",
       "  </tbody>\n",
       "</table>\n",
       "</div>"
      ],
      "text/plain": [
       "             Year   BMI RUS   BMI USA\n",
       "Year     1.000000  0.996112  0.996112\n",
       "BMI RUS  0.996112  1.000000  1.000000\n",
       "BMI USA  0.996112  1.000000  1.000000"
      ]
     },
     "execution_count": 216,
     "metadata": {},
     "output_type": "execute_result"
    }
   ],
   "source": [
    "corrData = hopelessData.corr()\n",
    "\n",
    "corrData"
   ]
  },
  {
   "cell_type": "code",
   "execution_count": 217,
   "id": "4c2559db",
   "metadata": {},
   "outputs": [
    {
     "data": {
      "text/plain": [
       "<Axes: >"
      ]
     },
     "execution_count": 217,
     "metadata": {},
     "output_type": "execute_result"
    },
    {
     "data": {
      "image/png": "[encoded data removed]",
      "text/plain": [
       "<Figure size 640x480 with 2 Axes>"
      ]
     },
     "metadata": {},
     "output_type": "display_data"
    }
   ],
   "source": [
    "sns.heatmap(corrData, annot=True, cmap='coolwarm', fmt=\".4f\", vmin=-1, vmax=1)"
   ]
  },
  {
   "cell_type": "code",
   "execution_count": 218,
   "id": "5408181f",
   "metadata": {},
   "outputs": [
    {
     "name": "stdout",
     "output_type": "stream",
     "text": [
      "0.9961122353263308\n"
     ]
    }
   ],
   "source": [
    "print(hopelessData['Year'].corr(hopelessData['BMI USA']))"
   ]
  },
  {
   "cell_type": "code",
   "execution_count": null,
   "id": "0a5656ab",
   "metadata": {},
   "outputs": [],
   "source": []
  }
 ],
 "metadata": {
  "kernelspec": {
   "display_name": "Python 3 (ipykernel)",
   "language": "python",
   "name": "python3"
  },
  "language_info": {
   "codemirror_mode": {
    "name": "ipython",
    "version": 3
   },
   "file_extension": ".py",
   "mimetype": "text/x-python",
   "name": "python",
   "nbconvert_exporter": "python",
   "pygments_lexer": "ipython3",
   "version": "3.11.5"
  }
 },
 "nbformat": 4,
 "nbformat_minor": 5
}
